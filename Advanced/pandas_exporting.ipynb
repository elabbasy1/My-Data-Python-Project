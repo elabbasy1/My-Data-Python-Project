{
 "cells": [
  {
   "cell_type": "code",
   "execution_count": 18,
   "id": "93b4409a",
   "metadata": {},
   "outputs": [],
   "source": [
    "\n",
    "import pandas as pd\n",
    "from datasets import load_dataset\n",
    "from sqlalchemy import create_engine\n",
    "engine = create_engine('sqlite:///jobs.db')\n",
    "import matplotlib.pyplot as plt\n",
    "\n",
    "\n",
    "#loading my data\n",
    "\n",
    "dataset = load_dataset('lukebarousse/data_jobs')\n",
    "df = dataset['train'].to_pandas()\n",
    "\n",
    "#data clean up\n",
    "\n",
    "df['job_posted_date'] = pd.to_datetime(df['job_posted_date'])\n"
   ]
  },
  {
   "cell_type": "code",
   "execution_count": null,
   "id": "9d6c7d93",
   "metadata": {},
   "outputs": [],
   "source": [
    "#same data we are using from the concat file.\n",
    "df['job_posted_month'] = df['job_posted_date'].dt.strftime('%b')\n",
    "df"
   ]
  },
  {
   "cell_type": "code",
   "execution_count": null,
   "id": "3a1cf857",
   "metadata": {},
   "outputs": [],
   "source": [
    "months = df['job_posted_month'].unique()\n",
    "months\n",
    "\n",
    "dict_months = {month: df[df['job_posted_month'] == month] for month in months}\n",
    "dict_months['Jan']\n"
   ]
  },
  {
   "cell_type": "code",
   "execution_count": 6,
   "id": "eeea0948",
   "metadata": {},
   "outputs": [],
   "source": [
    "df_q1 = pd.concat([dict_months['Jan'], dict_months['Feb'], dict_months['Mar']], ignore_index=True)"
   ]
  },
  {
   "cell_type": "code",
   "execution_count": 9,
   "id": "2654f632",
   "metadata": {},
   "outputs": [
    {
     "name": "stderr",
     "output_type": "stream",
     "text": [
      "C:\\Users\\moham\\AppData\\Local\\Temp\\ipykernel_13968\\550544436.py:2: UserWarning: to_clipboard in excel mode requires a single character separator.\n",
      "  df_q1.head().to_clipboard(sep=', ')\n"
     ]
    }
   ],
   "source": [
    "#exporting  data to clipboard for the top 5 values\n",
    "df_q1.head().to_clipboard(sep=', ')"
   ]
  },
  {
   "cell_type": "code",
   "execution_count": 11,
   "id": "8378ff21",
   "metadata": {},
   "outputs": [],
   "source": [
    "#saving data to a csv file\n",
    "df_q1.to_csv('quarter_1.csv')"
   ]
  },
  {
   "cell_type": "code",
   "execution_count": null,
   "id": "f44df210",
   "metadata": {},
   "outputs": [],
   "source": [
    "#reading our data\n",
    "\n",
    "pd.read_csv('quarter_1.csv', index_col=0)"
   ]
  },
  {
   "cell_type": "code",
   "execution_count": 15,
   "id": "e6b6bb58",
   "metadata": {},
   "outputs": [],
   "source": [
    "#exporting data to excel after installing the conda openpyxl \n",
    "\n",
    "df_q1.to_excel('quarter_1.xlsx')"
   ]
  },
  {
   "cell_type": "code",
   "execution_count": null,
   "id": "01769668",
   "metadata": {},
   "outputs": [
    {
     "data": {
      "text/plain": [
       "785741"
      ]
     },
     "execution_count": 19,
     "metadata": {},
     "output_type": "execute_result"
    }
   ],
   "source": [
    "#exportin data to sql , we need to install the sqlalchemy library  to be able to that\n",
    "df.to_sql('job_table', con = engine, if_exists='append', index = False)"
   ]
  },
  {
   "cell_type": "code",
   "execution_count": 20,
   "id": "118ddc02",
   "metadata": {},
   "outputs": [],
   "source": [
    "#exporting data to parquet\n",
    "df.to_parquet('job_data.parquet')"
   ]
  },
  {
   "cell_type": "code",
   "execution_count": 21,
   "id": "4488bb68",
   "metadata": {},
   "outputs": [],
   "source": [
    "# exporting data to pickle\n",
    "\n",
    "df.to_pickle('job_data.pkl')"
   ]
  },
  {
   "cell_type": "code",
   "execution_count": null,
   "id": "59915a44",
   "metadata": {},
   "outputs": [],
   "source": []
  }
 ],
 "metadata": {
  "kernelspec": {
   "display_name": "python_data_project",
   "language": "python",
   "name": "python3"
  },
  "language_info": {
   "codemirror_mode": {
    "name": "ipython",
    "version": 3
   },
   "file_extension": ".py",
   "mimetype": "text/x-python",
   "name": "python",
   "nbconvert_exporter": "python",
   "pygments_lexer": "ipython3",
   "version": "3.12.11"
  }
 },
 "nbformat": 4,
 "nbformat_minor": 5
}
