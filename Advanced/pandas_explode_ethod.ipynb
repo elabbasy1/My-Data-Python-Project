{
 "cells": [
  {
   "cell_type": "code",
   "execution_count": null,
   "id": "4636c515",
   "metadata": {},
   "outputs": [],
   "source": [
    "\n",
    "import ast\n",
    "import pandas as pd\n",
    "from datasets import load_dataset\n",
    "import matplotlib.pyplot as plt\n",
    "\n",
    "#loading my data\n",
    "\n",
    "dataset = load_dataset('lukebarousse/data_jobs')\n",
    "df = dataset['train'].to_pandas()\n",
    "\n",
    "#data clean up\n",
    "\n",
    "df['job_posted_date'] = pd.to_datetime(df['job_posted_date'])\n",
    "\n",
    "#using the apply method with lambda to get data if not nall values \n",
    "\n",
    "df['job_skills'] = df['job_skills'].apply(lambda x: ast.literal_eval(x) if pd.notna(x) else x)\n"
   ]
  },
  {
   "cell_type": "code",
   "execution_count": 3,
   "id": "2aa07f30",
   "metadata": {},
   "outputs": [
    {
     "data": {
      "text/html": [
       "<div>\n",
       "<style scoped>\n",
       "    .dataframe tbody tr th:only-of-type {\n",
       "        vertical-align: middle;\n",
       "    }\n",
       "\n",
       "    .dataframe tbody tr th {\n",
       "        vertical-align: top;\n",
       "    }\n",
       "\n",
       "    .dataframe thead th {\n",
       "        text-align: right;\n",
       "    }\n",
       "</style>\n",
       "<table border=\"1\" class=\"dataframe\">\n",
       "  <thead>\n",
       "    <tr style=\"text-align: right;\">\n",
       "      <th></th>\n",
       "      <th>job_title_short</th>\n",
       "      <th>job_skills</th>\n",
       "    </tr>\n",
       "  </thead>\n",
       "  <tbody>\n",
       "    <tr>\n",
       "      <th>0</th>\n",
       "      <td>Senior Data Engineer</td>\n",
       "      <td>None</td>\n",
       "    </tr>\n",
       "    <tr>\n",
       "      <th>1</th>\n",
       "      <td>Data Analyst</td>\n",
       "      <td>[r, python, sql, nosql, power bi, tableau]</td>\n",
       "    </tr>\n",
       "    <tr>\n",
       "      <th>2</th>\n",
       "      <td>Data Engineer</td>\n",
       "      <td>[python, sql, c#, azure, airflow, dax, docker,...</td>\n",
       "    </tr>\n",
       "    <tr>\n",
       "      <th>3</th>\n",
       "      <td>Data Engineer</td>\n",
       "      <td>[python, c++, java, matlab, aws, tensorflow, k...</td>\n",
       "    </tr>\n",
       "    <tr>\n",
       "      <th>4</th>\n",
       "      <td>Data Engineer</td>\n",
       "      <td>[bash, python, oracle, aws, ansible, puppet, j...</td>\n",
       "    </tr>\n",
       "  </tbody>\n",
       "</table>\n",
       "</div>"
      ],
      "text/plain": [
       "        job_title_short                                         job_skills\n",
       "0  Senior Data Engineer                                               None\n",
       "1          Data Analyst         [r, python, sql, nosql, power bi, tableau]\n",
       "2         Data Engineer  [python, sql, c#, azure, airflow, dax, docker,...\n",
       "3         Data Engineer  [python, c++, java, matlab, aws, tensorflow, k...\n",
       "4         Data Engineer  [bash, python, oracle, aws, ansible, puppet, j..."
      ]
     },
     "execution_count": 3,
     "metadata": {},
     "output_type": "execute_result"
    }
   ],
   "source": [
    "#gettng data for the top 5 rows for the selected clomuns\n",
    "df[['job_title_short', 'job_skills']].head()"
   ]
  },
  {
   "cell_type": "code",
   "execution_count": null,
   "id": "c34c213e",
   "metadata": {},
   "outputs": [],
   "source": [
    "#using the explode method to duplicat evalues\n",
    "df_exploded = df.explode('job_skills')\n"
   ]
  },
  {
   "cell_type": "code",
   "execution_count": null,
   "id": "e4924744",
   "metadata": {},
   "outputs": [],
   "source": [
    "df_exploded"
   ]
  },
  {
   "cell_type": "code",
   "execution_count": 8,
   "id": "401bfa9b",
   "metadata": {},
   "outputs": [
    {
     "data": {
      "text/plain": [
       "<Axes: xlabel='job_skills'>"
      ]
     },
     "execution_count": 8,
     "metadata": {},
     "output_type": "execute_result"
    },
    {
     "data": {
      "image/png": "[encoded data removed]",
      "text/plain": [
       "<Figure size 640x480 with 1 Axes>"
      ]
     },
     "metadata": {},
     "output_type": "display_data"
    }
   ],
   "source": [
    "#applying value count on the explode function for the top 10 and ploting them as barchart\n",
    "df_exploded['job_skills'].value_counts().head(10).plot(kind='bar')"
   ]
  },
  {
   "cell_type": "code",
   "execution_count": 10,
   "id": "23005c0c",
   "metadata": {},
   "outputs": [
    {
     "data": {
      "text/plain": [
       "pandas.core.series.Series"
      ]
     },
     "execution_count": 10,
     "metadata": {},
     "output_type": "execute_result"
    }
   ],
   "source": [
    "#grouping both columns by size using groupby\n",
    "skills_count = df_exploded.groupby(['job_skills', 'job_title_short']).size()\n",
    "\n",
    "#checking data type\n",
    "\n",
    "type(skills_count)\n"
   ]
  },
  {
   "cell_type": "code",
   "execution_count": 15,
   "id": "4360a8e8",
   "metadata": {},
   "outputs": [
    {
     "data": {
      "text/html": [
       "<div>\n",
       "<style scoped>\n",
       "    .dataframe tbody tr th:only-of-type {\n",
       "        vertical-align: middle;\n",
       "    }\n",
       "\n",
       "    .dataframe tbody tr th {\n",
       "        vertical-align: top;\n",
       "    }\n",
       "\n",
       "    .dataframe thead th {\n",
       "        text-align: right;\n",
       "    }\n",
       "</style>\n",
       "<table border=\"1\" class=\"dataframe\">\n",
       "  <thead>\n",
       "    <tr style=\"text-align: right;\">\n",
       "      <th></th>\n",
       "      <th>job_skills</th>\n",
       "      <th>job_title_short</th>\n",
       "      <th>skills_count</th>\n",
       "    </tr>\n",
       "  </thead>\n",
       "  <tbody>\n",
       "    <tr>\n",
       "      <th>1480</th>\n",
       "      <td>python</td>\n",
       "      <td>Data Scientist</td>\n",
       "      <td>113711</td>\n",
       "    </tr>\n",
       "    <tr>\n",
       "      <th>1822</th>\n",
       "      <td>sql</td>\n",
       "      <td>Data Engineer</td>\n",
       "      <td>113130</td>\n",
       "    </tr>\n",
       "    <tr>\n",
       "      <th>1479</th>\n",
       "      <td>python</td>\n",
       "      <td>Data Engineer</td>\n",
       "      <td>108022</td>\n",
       "    </tr>\n",
       "    <tr>\n",
       "      <th>1821</th>\n",
       "      <td>sql</td>\n",
       "      <td>Data Analyst</td>\n",
       "      <td>92428</td>\n",
       "    </tr>\n",
       "    <tr>\n",
       "      <th>1823</th>\n",
       "      <td>sql</td>\n",
       "      <td>Data Scientist</td>\n",
       "      <td>78982</td>\n",
       "    </tr>\n",
       "    <tr>\n",
       "      <th>...</th>\n",
       "      <td>...</td>\n",
       "      <td>...</td>\n",
       "      <td>...</td>\n",
       "    </tr>\n",
       "    <tr>\n",
       "      <th>2173</th>\n",
       "      <td>webex</td>\n",
       "      <td>Senior Data Scientist</td>\n",
       "      <td>1</td>\n",
       "    </tr>\n",
       "    <tr>\n",
       "      <th>293</th>\n",
       "      <td>codecommit</td>\n",
       "      <td>Business Analyst</td>\n",
       "      <td>1</td>\n",
       "    </tr>\n",
       "    <tr>\n",
       "      <th>2233</th>\n",
       "      <td>xamarin</td>\n",
       "      <td>Machine Learning Engineer</td>\n",
       "      <td>1</td>\n",
       "    </tr>\n",
       "    <tr>\n",
       "      <th>1087</th>\n",
       "      <td>mlr</td>\n",
       "      <td>Machine Learning Engineer</td>\n",
       "      <td>1</td>\n",
       "    </tr>\n",
       "    <tr>\n",
       "      <th>1093</th>\n",
       "      <td>monday.com</td>\n",
       "      <td>Machine Learning Engineer</td>\n",
       "      <td>1</td>\n",
       "    </tr>\n",
       "  </tbody>\n",
       "</table>\n",
       "<p>2256 rows × 3 columns</p>\n",
       "</div>"
      ],
      "text/plain": [
       "      job_skills            job_title_short  skills_count\n",
       "1480      python             Data Scientist        113711\n",
       "1822         sql              Data Engineer        113130\n",
       "1479      python              Data Engineer        108022\n",
       "1821         sql               Data Analyst         92428\n",
       "1823         sql             Data Scientist         78982\n",
       "...          ...                        ...           ...\n",
       "2173       webex      Senior Data Scientist             1\n",
       "293   codecommit           Business Analyst             1\n",
       "2233     xamarin  Machine Learning Engineer             1\n",
       "1087         mlr  Machine Learning Engineer             1\n",
       "1093  monday.com  Machine Learning Engineer             1\n",
       "\n",
       "[2256 rows x 3 columns]"
      ]
     },
     "execution_count": 15,
     "metadata": {},
     "output_type": "execute_result"
    }
   ],
   "source": [
    "#converting it into a dataframe\n",
    "\n",
    "df_skills_count = skills_count.reset_index(name='skills_count')\n",
    "df_skills_count\n",
    "\n",
    "#sorting our data in dscending order\n",
    "df_skills_count = df_skills_count.sort_values(by='skills_count', ascending= False)\n",
    "df_skills_count"
   ]
  },
  {
   "cell_type": "code",
   "execution_count": 16,
   "id": "e5db6045",
   "metadata": {},
   "outputs": [
    {
     "data": {
      "text/html": [
       "<div>\n",
       "<style scoped>\n",
       "    .dataframe tbody tr th:only-of-type {\n",
       "        vertical-align: middle;\n",
       "    }\n",
       "\n",
       "    .dataframe tbody tr th {\n",
       "        vertical-align: top;\n",
       "    }\n",
       "\n",
       "    .dataframe thead th {\n",
       "        text-align: right;\n",
       "    }\n",
       "</style>\n",
       "<table border=\"1\" class=\"dataframe\">\n",
       "  <thead>\n",
       "    <tr style=\"text-align: right;\">\n",
       "      <th></th>\n",
       "      <th>job_skills</th>\n",
       "      <th>job_title_short</th>\n",
       "      <th>skills_count</th>\n",
       "    </tr>\n",
       "  </thead>\n",
       "  <tbody>\n",
       "    <tr>\n",
       "      <th>1821</th>\n",
       "      <td>sql</td>\n",
       "      <td>Data Analyst</td>\n",
       "      <td>92428</td>\n",
       "    </tr>\n",
       "    <tr>\n",
       "      <th>558</th>\n",
       "      <td>excel</td>\n",
       "      <td>Data Analyst</td>\n",
       "      <td>66860</td>\n",
       "    </tr>\n",
       "    <tr>\n",
       "      <th>1478</th>\n",
       "      <td>python</td>\n",
       "      <td>Data Analyst</td>\n",
       "      <td>57190</td>\n",
       "    </tr>\n",
       "    <tr>\n",
       "      <th>1941</th>\n",
       "      <td>tableau</td>\n",
       "      <td>Data Analyst</td>\n",
       "      <td>46455</td>\n",
       "    </tr>\n",
       "    <tr>\n",
       "      <th>1410</th>\n",
       "      <td>power bi</td>\n",
       "      <td>Data Analyst</td>\n",
       "      <td>39380</td>\n",
       "    </tr>\n",
       "    <tr>\n",
       "      <th>1516</th>\n",
       "      <td>r</td>\n",
       "      <td>Data Analyst</td>\n",
       "      <td>29996</td>\n",
       "    </tr>\n",
       "    <tr>\n",
       "      <th>1635</th>\n",
       "      <td>sas</td>\n",
       "      <td>Data Analyst</td>\n",
       "      <td>27998</td>\n",
       "    </tr>\n",
       "    <tr>\n",
       "      <th>1429</th>\n",
       "      <td>powerpoint</td>\n",
       "      <td>Data Analyst</td>\n",
       "      <td>13822</td>\n",
       "    </tr>\n",
       "    <tr>\n",
       "      <th>2198</th>\n",
       "      <td>word</td>\n",
       "      <td>Data Analyst</td>\n",
       "      <td>13562</td>\n",
       "    </tr>\n",
       "    <tr>\n",
       "      <th>1625</th>\n",
       "      <td>sap</td>\n",
       "      <td>Data Analyst</td>\n",
       "      <td>11280</td>\n",
       "    </tr>\n",
       "  </tbody>\n",
       "</table>\n",
       "</div>"
      ],
      "text/plain": [
       "      job_skills job_title_short  skills_count\n",
       "1821         sql    Data Analyst         92428\n",
       "558        excel    Data Analyst         66860\n",
       "1478      python    Data Analyst         57190\n",
       "1941     tableau    Data Analyst         46455\n",
       "1410    power bi    Data Analyst         39380\n",
       "1516           r    Data Analyst         29996\n",
       "1635         sas    Data Analyst         27998\n",
       "1429  powerpoint    Data Analyst         13822\n",
       "2198        word    Data Analyst         13562\n",
       "1625         sap    Data Analyst         11280"
      ]
     },
     "execution_count": 16,
     "metadata": {},
     "output_type": "execute_result"
    }
   ],
   "source": [
    "#filtering for data analyst and for top 10 skills\n",
    "\n",
    "job_title = 'Data Analyst'\n",
    "top_skills = 10\n",
    "\n",
    "df_skill_final = df_skills_count[df_skills_count['job_title_short'] == job_title].head(top_skills)\n",
    "df_skill_final\n",
    "\n"
   ]
  },
  {
   "cell_type": "code",
   "execution_count": 24,
   "id": "e6ff9d50",
   "metadata": {},
   "outputs": [
    {
     "data": {
      "image/png": "[encoded data removed]",
      "text/plain": [
       "<Figure size 640x480 with 1 Axes>"
      ]
     },
     "metadata": {},
     "output_type": "display_data"
    }
   ],
   "source": [
    "#ploting our data for x to be job_skills and y to be skills_count\n",
    "\n",
    "df_skill_final.plot(kind='barh', x='job_skills', y='skills_count')\n",
    "\n",
    "#inverting the way axis using the gca and invert method\n",
    "\n",
    "plt.gca().invert_yaxis\n",
    "\n",
    "#setting tittle\n",
    "\n",
    "plt.title(f\"Top {top_skills} skills for {job_title}\")\n",
    "#setting the x label \n",
    "\n",
    "plt.xlabel('Job posting count')\n",
    "\n",
    "#no need for y labe\n",
    "\n",
    "plt.ylabel('')\n",
    "\n",
    "#removing the skills_count icon \n",
    "plt.legend().set_visible(False)\n",
    "\n",
    "plt.show()"
   ]
  },
  {
   "cell_type": "code",
   "execution_count": null,
   "id": "ba5f04a5",
   "metadata": {},
   "outputs": [],
   "source": []
  }
 ],
 "metadata": {
  "kernelspec": {
   "display_name": "python_data_project",
   "language": "python",
   "name": "python3"
  },
  "language_info": {
   "codemirror_mode": {
    "name": "ipython",
    "version": 3
   },
   "file_extension": ".py",
   "mimetype": "text/x-python",
   "name": "python",
   "nbconvert_exporter": "python",
   "pygments_lexer": "ipython3",
   "version": "3.12.11"
  }
 },
 "nbformat": 4,
 "nbformat_minor": 5
}
