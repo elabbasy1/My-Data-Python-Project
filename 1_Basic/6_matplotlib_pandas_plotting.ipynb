{
 "cells": [
  {
   "cell_type": "code",
   "execution_count": null,
   "id": "6de1a514",
   "metadata": {},
   "outputs": [],
   "source": [
    "# Importing Libraries\n",
    "import pandas as pd\n",
    "from datasets import load_dataset\n",
    "import matplotlib.pyplot as plt  \n",
    "\n",
    "# Loading Data\n",
    "dataset = load_dataset('lukebarousse/data_jobs')\n",
    "df = dataset['train'].to_pandas()\n",
    "\n",
    "# Data Cleanup\n",
    "df['job_posted_date'] = pd.to_datetime(df['job_posted_date'])"
   ]
  },
  {
   "cell_type": "code",
   "execution_count": null,
   "id": "0dff305f",
   "metadata": {},
   "outputs": [],
   "source": [
    "job_counts = df['job_title_short'].value_counts()\n",
    "\n",
    "job_counts"
   ]
  },
  {
   "cell_type": "code",
   "execution_count": null,
   "id": "f46b891f",
   "metadata": {},
   "outputs": [],
   "source": [
    "plt.bar(job_counts.index, job_counts) \n",
    "plt.show()"
   ]
  },
  {
   "cell_type": "code",
   "execution_count": null,
   "id": "00ed5ef9",
   "metadata": {},
   "outputs": [],
   "source": [
    "job_counts.plot(kind='bar')\n",
    "plt.show()"
   ]
  },
  {
   "cell_type": "code",
   "execution_count": null,
   "id": "892341ea",
   "metadata": {},
   "outputs": [],
   "source": [
    "job_counts.plot(kind='bar')\n",
    "plt.xlabel('')\n",
    "plt.ylabel('Count of Postings')\n",
    "plt.title('Job Postings by Job Title')\n",
    "plt.xticks(rotation=45, ha='right') \n",
    "plt.show()"
   ]
  },
  {
   "cell_type": "code",
   "execution_count": null,
   "id": "9ca864f6",
   "metadata": {},
   "outputs": [],
   "source": [
    "\n",
    "df.plot(x='job_posted_date', y='salary_year_avg', kind='line')"
   ]
  },
  {
   "cell_type": "code",
   "execution_count": null,
   "id": "10dd1613",
   "metadata": {},
   "outputs": [],
   "source": [
    "# sort index by job posted date \n",
    "df = df.set_index('job_posted_date')\n",
    "df.sort_index(inplace=True)\n",
    "df.head()"
   ]
  },
  {
   "cell_type": "code",
   "execution_count": null,
   "id": "04383f14",
   "metadata": {},
   "outputs": [],
   "source": [
    "df.plot(y='salary_year_avg', kind='line')"
   ]
  },
  {
   "cell_type": "code",
   "execution_count": null,
   "id": "81031908",
   "metadata": {},
   "outputs": [],
   "source": []
  }
 ],
 "metadata": {
  "language_info": {
   "name": "python"
  }
 },
 "nbformat": 4,
 "nbformat_minor": 5
}
