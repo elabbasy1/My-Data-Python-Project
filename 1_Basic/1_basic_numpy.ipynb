{
 "cells": [
  {
   "cell_type": "code",
   "execution_count": 1,
   "id": "f7c60ea0",
   "metadata": {},
   "outputs": [],
   "source": [
    "# Import Package\n",
    "import numpy as np"
   ]
  },
  {
   "cell_type": "code",
   "execution_count": 2,
   "id": "8d053c33",
   "metadata": {},
   "outputs": [],
   "source": [
    "# Example: An array representing the number of years of experience required for three different data science job listings.\n",
    "years_of_experience = np.array([1, 2, 3, 4, 5])"
   ]
  },
  {
   "cell_type": "code",
   "execution_count": 3,
   "id": "5e123a10",
   "metadata": {},
   "outputs": [
    {
     "data": {
      "text/plain": [
       "array([2, 3, 4, 5, 6])"
      ]
     },
     "execution_count": 3,
     "metadata": {},
     "output_type": "execute_result"
    }
   ],
   "source": [
    "years_of_experience_plus_one = years_of_experience + 1\n",
    "years_of_experience_plus_one"
   ]
  },
  {
   "cell_type": "code",
   "execution_count": 4,
   "id": "2fefa792",
   "metadata": {},
   "outputs": [
    {
     "data": {
      "text/plain": [
       "array([0, 1, 2, 3, 4])"
      ]
     },
     "execution_count": 4,
     "metadata": {},
     "output_type": "execute_result"
    }
   ],
   "source": [
    "years_of_experience_minus_one = years_of_experience - 1\n",
    "years_of_experience_minus_one"
   ]
  },
  {
   "cell_type": "code",
   "execution_count": 5,
   "id": "6c7e66c9",
   "metadata": {},
   "outputs": [
    {
     "data": {
      "text/plain": [
       "array([0.5, 1. , 1.5, 2. , 2.5])"
      ]
     },
     "execution_count": 5,
     "metadata": {},
     "output_type": "execute_result"
    }
   ],
   "source": [
    "years_of_experience_half = years_of_experience / 2\n",
    "years_of_experience_half"
   ]
  },
  {
   "cell_type": "code",
   "execution_count": 6,
   "id": "c1ebbf34",
   "metadata": {},
   "outputs": [
    {
     "data": {
      "text/plain": [
       "array([ 2,  4,  6,  8, 10])"
      ]
     },
     "execution_count": 6,
     "metadata": {},
     "output_type": "execute_result"
    }
   ],
   "source": [
    "years_of_experience_double = years_of_experience * 2\n",
    "years_of_experience_double"
   ]
  },
  {
   "cell_type": "code",
   "execution_count": 7,
   "id": "28f11b51",
   "metadata": {},
   "outputs": [
    {
     "data": {
      "text/plain": [
       "array([2, 3])"
      ]
     },
     "execution_count": 7,
     "metadata": {},
     "output_type": "execute_result"
    }
   ],
   "source": [
    "# Example: Selecting the experience requirement for the second and third job listings.\n",
    "second_and_third_jobs_experience = years_of_experience[1:3]\n",
    "second_and_third_jobs_experience"
   ]
  },
  {
   "cell_type": "code",
   "execution_count": 8,
   "id": "153daa75",
   "metadata": {},
   "outputs": [
    {
     "data": {
      "text/plain": [
       "array([3, 4, 5])"
      ]
     },
     "execution_count": 8,
     "metadata": {},
     "output_type": "execute_result"
    }
   ],
   "source": [
    "# Example: Selecting only those job listings that require more than 1 year of experience.\n",
    "jobs_with_more_than_one_year_exp = years_of_experience[years_of_experience > 2]\n",
    "jobs_with_more_than_one_year_exp"
   ]
  },
  {
   "cell_type": "code",
   "execution_count": 9,
   "id": "6a506ba7",
   "metadata": {},
   "outputs": [],
   "source": [
    "import random \n",
    "\n",
    "salary = [random.randint(100000, 150000) for num in range(10)]"
   ]
  },
  {
   "cell_type": "code",
   "execution_count": 10,
   "id": "6c19f2b6",
   "metadata": {},
   "outputs": [
    {
     "data": {
      "text/plain": [
       "array([135230, 114062, 138836, 135570, 113548, 131902, 116752, 123711,\n",
       "       115560, 120756])"
      ]
     },
     "execution_count": 10,
     "metadata": {},
     "output_type": "execute_result"
    }
   ],
   "source": [
    "salary_array = np.array(salary)\n",
    "salary_array"
   ]
  },
  {
   "cell_type": "code",
   "execution_count": 11,
   "id": "e94010f8",
   "metadata": {},
   "outputs": [
    {
     "data": {
      "text/plain": [
       "np.int64(1245927)"
      ]
     },
     "execution_count": 11,
     "metadata": {},
     "output_type": "execute_result"
    }
   ],
   "source": [
    "total_sum_salaries = np.sum(salary_array)\n",
    "total_sum_salaries"
   ]
  },
  {
   "cell_type": "code",
   "execution_count": 12,
   "id": "0e929408",
   "metadata": {},
   "outputs": [
    {
     "data": {
      "text/plain": [
       "np.int64(1097958926062583808)"
      ]
     },
     "execution_count": 12,
     "metadata": {},
     "output_type": "execute_result"
    }
   ],
   "source": [
    "# This is a conceptual example since taking the product of a boolean series isn't common\n",
    "product_salaries = np.prod(salary_array)\n",
    "product_salaries"
   ]
  },
  {
   "cell_type": "code",
   "execution_count": 13,
   "id": "7a504a55",
   "metadata": {},
   "outputs": [
    {
     "data": {
      "text/plain": [
       "array([ 135230,  249292,  388128,  523698,  637246,  769148,  885900,\n",
       "       1009611, 1125171, 1245927])"
      ]
     },
     "execution_count": 13,
     "metadata": {},
     "output_type": "execute_result"
    }
   ],
   "source": [
    "cumulative_sum_salaries = np.cumsum(salary_array)\n",
    "cumulative_sum_salaries"
   ]
  },
  {
   "cell_type": "code",
   "execution_count": 14,
   "id": "39e50174",
   "metadata": {},
   "outputs": [
    {
     "data": {
      "text/plain": [
       "array([              135230,          15424604260,     2141490357041360,\n",
       "       -4826057475255650656,  8251997361029169024,  4821845237359501568,\n",
       "        2339510728430850048, -6202791593974566912,  8984616504804343808,\n",
       "        1097958926062583808])"
      ]
     },
     "execution_count": 14,
     "metadata": {},
     "output_type": "execute_result"
    }
   ],
   "source": [
    "# Cumulative product of 'job_no_degree_mention' column (conceptual example)\n",
    "cumulative_prod_salaries = np.cumprod(salary_array)\n",
    "cumulative_prod_salaries"
   ]
  },
  {
   "cell_type": "code",
   "execution_count": 15,
   "id": "6c2b113d",
   "metadata": {},
   "outputs": [
    {
     "data": {
      "text/plain": [
       "np.float64(124592.7)"
      ]
     },
     "execution_count": 15,
     "metadata": {},
     "output_type": "execute_result"
    }
   ],
   "source": [
    "average_salary = np.mean(salary_array)\n",
    "average_salary"
   ]
  },
  {
   "cell_type": "code",
   "execution_count": 16,
   "id": "01c0a130",
   "metadata": {},
   "outputs": [
    {
     "data": {
      "text/plain": [
       "np.float64(122233.5)"
      ]
     },
     "execution_count": 16,
     "metadata": {},
     "output_type": "execute_result"
    }
   ],
   "source": [
    "median_salary = np.median(salary_array)\n",
    "median_salary"
   ]
  },
  {
   "cell_type": "code",
   "execution_count": 17,
   "id": "468feaf1",
   "metadata": {},
   "outputs": [
    {
     "data": {
      "text/plain": [
       "np.float64(97932852.9)"
      ]
     },
     "execution_count": 17,
     "metadata": {},
     "output_type": "execute_result"
    }
   ],
   "source": [
    "\n",
    "salary_variance = np.var(salary_array, ddof=1)  # ddof=1 for sample variance\n",
    "salary_variance"
   ]
  },
  {
   "cell_type": "code",
   "execution_count": 18,
   "id": "7e719079",
   "metadata": {},
   "outputs": [
    {
     "data": {
      "text/plain": [
       "np.float64(9896.102914784184)"
      ]
     },
     "execution_count": 18,
     "metadata": {},
     "output_type": "execute_result"
    }
   ],
   "source": [
    "# Standard deviation of 'salary_year_avg' column\n",
    "salary_std_dev = np.std(salary_array, ddof=1)  # ddof=1 for sample standard deviation\n",
    "salary_std_dev"
   ]
  },
  {
   "cell_type": "code",
   "execution_count": 19,
   "id": "b5a73198",
   "metadata": {},
   "outputs": [
    {
     "data": {
      "text/plain": [
       "np.int64(113548)"
      ]
     },
     "execution_count": 19,
     "metadata": {},
     "output_type": "execute_result"
    }
   ],
   "source": [
    "# Minimum of 'salary_year_avg' column\n",
    "min_salary = np.min(salary_array)\n",
    "min_salary"
   ]
  },
  {
   "cell_type": "code",
   "execution_count": 20,
   "id": "f553c3c4",
   "metadata": {},
   "outputs": [
    {
     "data": {
      "text/plain": [
       "np.int64(138836)"
      ]
     },
     "execution_count": 20,
     "metadata": {},
     "output_type": "execute_result"
    }
   ],
   "source": [
    "# Maximum of 'salary_year_avg' column\n",
    "max_salary = np.max(salary_array)\n",
    "max_salary"
   ]
  },
  {
   "cell_type": "code",
   "execution_count": null,
   "id": "3d7e1b27",
   "metadata": {},
   "outputs": [],
   "source": []
  }
 ],
 "metadata": {
  "kernelspec": {
   "display_name": "python_data_project",
   "language": "python",
   "name": "python3"
  },
  "language_info": {
   "codemirror_mode": {
    "name": "ipython",
    "version": 3
   },
   "file_extension": ".py",
   "mimetype": "text/x-python",
   "name": "python",
   "nbconvert_exporter": "python",
   "pygments_lexer": "ipython3",
   "version": "3.12.11"
  }
 },
 "nbformat": 4,
 "nbformat_minor": 5
}
