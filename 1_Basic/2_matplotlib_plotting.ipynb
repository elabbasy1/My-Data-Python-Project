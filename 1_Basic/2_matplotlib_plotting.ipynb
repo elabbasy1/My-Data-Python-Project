{
 "cells": [
  {
   "cell_type": "code",
   "execution_count": null,
   "id": "2e7de4a4",
   "metadata": {},
   "outputs": [],
   "source": [
    "# Importing Libraries\n",
    "import pandas as pd\n",
    "from datasets import load_dataset\n",
    "import matplotlib.pyplot as plt  # we will use this for plotting\n",
    "\n",
    "# Loading Data\n",
    "dataset = load_dataset('lukebarousse/data_jobs')\n",
    "df = dataset['train'].to_pandas()\n",
    "\n",
    "# Data Cleanup\n",
    "df['job_posted_date'] = pd.to_datetime(df['job_posted_date'])"
   ]
  },
  {
   "cell_type": "code",
   "execution_count": null,
   "id": "2be7cfde",
   "metadata": {},
   "outputs": [],
   "source": [
    "plt.plot(df['job_posted_date'], df['job_posted_date'])"
   ]
  },
  {
   "cell_type": "code",
   "execution_count": null,
   "id": "d3bb8dbf",
   "metadata": {},
   "outputs": [],
   "source": [
    "plt.plot('job_posted_date', 'job_posted_date', data=df)"
   ]
  },
  {
   "cell_type": "code",
   "execution_count": null,
   "id": "c350fbd0",
   "metadata": {},
   "outputs": [],
   "source": [
    "date_counts = df['job_posted_date'].value_counts()\n",
    "\n",
    "date_counts = date_counts.sort_index()\n",
    "\n",
    "date_counts"
   ]
  },
  {
   "cell_type": "code",
   "execution_count": null,
   "id": "80ad4409",
   "metadata": {},
   "outputs": [],
   "source": [
    "plt.plot(date_counts.index, date_counts)"
   ]
  },
  {
   "cell_type": "code",
   "execution_count": null,
   "id": "9bbad68a",
   "metadata": {},
   "outputs": [],
   "source": [
    "plt.plot(date_counts.index, date_counts.values)"
   ]
  },
  {
   "cell_type": "code",
   "execution_count": null,
   "id": "acab0743",
   "metadata": {},
   "outputs": [],
   "source": [
    "# Assuming 'job_posted_date' is already converted to datetime format in the original df\n",
    "df['job_posted_month'] = df['job_posted_date'].dt.month\n",
    "\n",
    "# Group by 'month' and count the job postings\n",
    "monthly_counts = df['job_posted_month'].value_counts()\n",
    "\n",
    "# Sort the months\n",
    "monthly_counts = monthly_counts.sort_index()\n",
    "\n",
    "monthly_counts "
   ]
  },
  {
   "cell_type": "code",
   "execution_count": null,
   "id": "51a722f7",
   "metadata": {},
   "outputs": [],
   "source": [
    "plt.plot(monthly_counts.index, monthly_counts)"
   ]
  },
  {
   "cell_type": "code",
   "execution_count": null,
   "id": "d4f1c8c1",
   "metadata": {},
   "outputs": [],
   "source": [
    "# Creating a Series from a list\n",
    "data = [10, 20, 30, 40, 50]\n",
    "series = pd.Series(data, index=['a', 'b', 'c', 'd', 'e'])"
   ]
  },
  {
   "cell_type": "code",
   "execution_count": null,
   "id": "46c69d96",
   "metadata": {},
   "outputs": [],
   "source": [
    "# show how to access the values of the series using 'values'ArithmeticError\n",
    "series.values"
   ]
  },
  {
   "cell_type": "code",
   "execution_count": null,
   "id": "e60f47d4",
   "metadata": {},
   "outputs": [],
   "source": [
    "series.index"
   ]
  },
  {
   "cell_type": "code",
   "execution_count": null,
   "id": "4e09690d",
   "metadata": {},
   "outputs": [],
   "source": [
    "# Get the value counts of the job titles for the filtered DataFrame\n",
    "job_counts = df['job_title_short'].value_counts()\n",
    "\n",
    "job_counts"
   ]
  },
  {
   "cell_type": "code",
   "execution_count": null,
   "id": "bfb0c633",
   "metadata": {},
   "outputs": [],
   "source": [
    "plt.bar(job_counts.index, job_counts.values)\n",
    "plt.show()"
   ]
  },
  {
   "cell_type": "code",
   "execution_count": null,
   "id": "37c83b11",
   "metadata": {},
   "outputs": [],
   "source": [
    "# Get the value counts of the job titles for the filtered DataFrame\n",
    "job_counts = df['job_title_short'].value_counts().head(3) # Only top 3 \n",
    "\n",
    "# Plot the job counts\n",
    "plt.bar(job_counts.index, job_counts.values)  "
   ]
  },
  {
   "cell_type": "code",
   "execution_count": null,
   "id": "77f6f2d9",
   "metadata": {},
   "outputs": [],
   "source": [
    "# Get the value counts of the job titles for the filtered DataFrame\n",
    "job_counts = df['job_title_short'].value_counts()\n",
    "job_counts = job_counts.head(6)\n",
    "job_counts = job_counts.sort_values(ascending=True)\n",
    "\n",
    "job_counts"
   ]
  },
  {
   "cell_type": "code",
   "execution_count": null,
   "id": "13615af4",
   "metadata": {},
   "outputs": [],
   "source": [
    "job_counts = (\n",
    "    df['job_title_short']\n",
    "    .value_counts()\n",
    "    .head(6)\n",
    "    .sort_values(ascending=True)\n",
    ")\n",
    "\n",
    "job_counts"
   ]
  },
  {
   "cell_type": "code",
   "execution_count": null,
   "id": "455f35a7",
   "metadata": {},
   "outputs": [],
   "source": [
    "plt.barh(job_counts.index, job_counts)  # Changed this to be a horizontal bar chart instead\n",
    "plt.show()"
   ]
  },
  {
   "cell_type": "code",
   "execution_count": null,
   "id": "68d53d60",
   "metadata": {},
   "outputs": [],
   "source": []
  }
 ],
 "metadata": {
  "kernelspec": {
   "display_name": "python_data_project",
   "language": "python",
   "name": "python3"
  },
  "language_info": {
   "codemirror_mode": {
    "name": "ipython",
    "version": 3
   },
   "file_extension": ".py",
   "mimetype": "text/x-python",
   "name": "python",
   "nbconvert_exporter": "python",
   "pygments_lexer": "ipython3",
   "version": "3.12.11"
  }
 },
 "nbformat": 4,
 "nbformat_minor": 5
}
